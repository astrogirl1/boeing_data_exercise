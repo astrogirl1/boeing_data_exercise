{
 "cells": [
  {
   "cell_type": "code",
   "execution_count": 2,
   "metadata": {},
   "outputs": [
    {
     "name": "stdout",
     "output_type": "stream",
     "text": [
      "The black module is not an IPython extension.\n"
     ]
    }
   ],
   "source": [
    "%load_ext black"
   ]
  },
  {
   "cell_type": "code",
   "execution_count": 3,
   "metadata": {},
   "outputs": [],
   "source": [
    "import pandas as pd\n",
    "import numpy as np\n",
    "import urllib.request\n",
    "import json\n",
    "import csv\n",
    "import math\n",
    "import matplotlib.pyplot as plt\n",
    "import requests"
   ]
  },
  {
   "cell_type": "markdown",
   "metadata": {},
   "source": [
    "### Read CSV (In the same directory as the notebook)"
   ]
  },
  {
   "cell_type": "code",
   "execution_count": 4,
   "metadata": {},
   "outputs": [],
   "source": [
    "data = pd.read_csv(\"airline_portcountry.csv\")"
   ]
  },
  {
   "cell_type": "markdown",
   "metadata": {},
   "source": [
    "### Question 1"
   ]
  },
  {
   "cell_type": "code",
   "execution_count": 5,
   "metadata": {},
   "outputs": [],
   "source": [
    "data_2019 = data[data[\"Year\"] == 2019]"
   ]
  },
  {
   "cell_type": "code",
   "execution_count": null,
   "metadata": {},
   "outputs": [],
   "source": [
    "total_passengers_in = data_2019.groupby([\"Airline\", \"Month_num\"])[\"Passengers_In\"].sum()\n",
    "total_passengers_out = data_2019.groupby([\"Airline\", \"Month_num\"])[\"Passengers_Out\"].sum()\n",
    "\n",
    "result1 = pd.concat([total_passengers_in, total_passengers_out], axis=1)\n",
    "result1.to_csv(\"question_1.csv\", index=True, header=True)"
   ]
  },
  {
   "cell_type": "markdown",
   "metadata": {},
   "source": [
    "### Question 2"
   ]
  },
  {
   "cell_type": "code",
   "execution_count": 7,
   "metadata": {},
   "outputs": [],
   "source": [
    "df = data.loc[((data[\"Year\"] == 2020) & (data[\"Month_num\"] >= 6))]"
   ]
  },
  {
   "cell_type": "code",
   "execution_count": 8,
   "metadata": {},
   "outputs": [],
   "source": [
    "most_passengers_in = df.groupby(\"Port_Country\")[\"Passengers_In\"].sum()"
   ]
  },
  {
   "cell_type": "code",
   "execution_count": 9,
   "metadata": {},
   "outputs": [],
   "source": [
    "country = pd.Series.idxmax(most_passengers_in)\n",
    "with open(\"question_2.txt\", \"w\") as text_file:\n",
    "    print(\n",
    "        \"The country with most passengers coming to Australia within the last 6 months : {}\".format(\n",
    "            country\n",
    "        ),\n",
    "        file=text_file,\n",
    "    )"
   ]
  },
  {
   "cell_type": "markdown",
   "metadata": {},
   "source": [
    "### Question 3"
   ]
  },
  {
   "cell_type": "code",
   "execution_count": 10,
   "metadata": {},
   "outputs": [],
   "source": [
    "data_2018 = data[data[\"Year\"] == 2018]"
   ]
  },
  {
   "cell_type": "code",
   "execution_count": 11,
   "metadata": {},
   "outputs": [
    {
     "name": "stderr",
     "output_type": "stream",
     "text": [
      "/opt/anaconda3/lib/python3.7/site-packages/ipykernel_launcher.py:5: SettingWithCopyWarning: \n",
      "A value is trying to be set on a copy of a slice from a DataFrame.\n",
      "Try using .loc[row_indexer,col_indexer] = value instead\n",
      "\n",
      "See the caveats in the documentation: https://pandas.pydata.org/pandas-docs/stable/user_guide/indexing.html#returning-a-view-versus-a-copy\n",
      "  \"\"\"\n"
     ]
    }
   ],
   "source": [
    "all_airlines = []\n",
    "for unique_airline in data_2018[\"Airline\"].unique():\n",
    "    airlines = data_2018[data_2018[\"Airline\"] == unique_airline]\n",
    "    airlines[\"Freight_in_rolling_avg_(tonnes)\"] = (\n",
    "        airlines[\"Freight_In_(tonnes)\"].rolling(window=3).mean()\n",
    "    )\n",
    "    all_airlines.append(airlines)\n",
    "all_airlines = pd.concat(all_airlines)"
   ]
  },
  {
   "cell_type": "code",
   "execution_count": 12,
   "metadata": {},
   "outputs": [],
   "source": [
    "all_airlines.to_csv(\"question_3.csv\", index=True, header=True)"
   ]
  },
  {
   "cell_type": "markdown",
   "metadata": {},
   "source": [
    "### Question 4"
   ]
  },
  {
   "cell_type": "code",
   "execution_count": null,
   "metadata": {
    "scrolled": true
   },
   "outputs": [],
   "source": [
    "total_mail_in = data.groupby(\"Airline\")[\"Mail_In_(tonnes)\"].sum()\n",
    "total_mail_out = data.groupby(\"Airline\")[\"Mail_Out_(tonnes)\"].sum()\n",
    "df4 = pd.concat([total_mail_in, total_mail_out], axis=1)"
   ]
  },
  {
   "cell_type": "code",
   "execution_count": null,
   "metadata": {},
   "outputs": [],
   "source": [
    "df4[\"mail_ratio\"] = df4[\"Mail_In_(tonnes)\"] / df4[\"Mail_Out_(tonnes)\"]\n",
    "df4.replace([np.inf, -np.inf], np.nan, inplace=True)\n",
    "df4.sort_values(by=\"mail_ratio\", ascending=False)"
   ]
  },
  {
   "cell_type": "code",
   "execution_count": null,
   "metadata": {},
   "outputs": [],
   "source": [
    "top_three_data = df4.nlargest(3, \"mail_ratio\")\n",
    "top_three_data.to_csv(\"question_4.csv\", index=True, header=True)"
   ]
  },
  {
   "cell_type": "markdown",
   "metadata": {},
   "source": [
    "### Question 5 (attempt)"
   ]
  },
  {
   "cell_type": "code",
   "execution_count": null,
   "metadata": {},
   "outputs": [],
   "source": [
    "airline_names = data.groupby([\"Year\", \"Month_num\"])[\"Airline\"].unique()\n",
    "\n",
    "intervals = {}\n",
    "for month_i, airline_names in enumerate(airline_names.values):\n",
    "    for airline_name in airline_names:\n",
    "\n",
    "        if airline_name not in intervals:\n",
    "            intervals[airline_name] = {\"start\": month_i}\n",
    "\n",
    "        else:\n",
    "            intervals[airline_name].update(\n",
    "                {\"end\": max(month_i, intervals[airline_name].get(\"end\", month_i))}\n",
    "            )"
   ]
  },
  {
   "cell_type": "code",
   "execution_count": null,
   "metadata": {
    "scrolled": true
   },
   "outputs": [],
   "source": [
    "intervals"
   ]
  }
 ],
 "metadata": {
  "kernelspec": {
   "display_name": "Python 3",
   "language": "python",
   "name": "python3"
  },
  "language_info": {
   "codemirror_mode": {
    "name": "ipython",
    "version": 3
   },
   "file_extension": ".py",
   "mimetype": "text/x-python",
   "name": "python",
   "nbconvert_exporter": "python",
   "pygments_lexer": "ipython3",
   "version": "3.7.6"
  }
 },
 "nbformat": 4,
 "nbformat_minor": 4
}
